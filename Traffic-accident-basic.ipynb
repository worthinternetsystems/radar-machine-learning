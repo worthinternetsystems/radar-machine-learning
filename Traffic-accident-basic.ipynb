{
 "cells": [
  {
   "cell_type": "code",
   "execution_count": 2,
   "metadata": {},
   "outputs": [
    {
     "name": "stdout",
     "output_type": "stream",
     "text": [
      "Downloading 2000-16-traffic-flow-england-scotland-wales.zip to ./2000-16-traffic-flow-england-scotland-wales\n"
     ]
    },
    {
     "name": "stderr",
     "output_type": "stream",
     "text": [
      "100%|██████████| 132M/132M [00:36<00:00, 3.79MB/s] \n"
     ]
    },
    {
     "name": "stdout",
     "output_type": "stream",
     "text": [
      "\n"
     ]
    }
   ],
   "source": [
    "import opendatasets as od\n",
    "dataset_url = 'https://www.kaggle.com/daveianhickey/2000-16-traffic-flow-england-scotland-wales'\n",
    "od.download(dataset_url)"
   ]
  },
  {
   "cell_type": "code",
   "execution_count": 6,
   "metadata": {},
   "outputs": [],
   "source": [
    "import pandas as pd\n"
   ]
  },
  {
   "cell_type": "code",
   "execution_count": 7,
   "metadata": {},
   "outputs": [],
   "source": [
    "df = pd.read_csv(r'2000-16-traffic-flow-england-scotland-wales/ukTrafficAADF.csv')"
   ]
  },
  {
   "cell_type": "code",
   "execution_count": 16,
   "metadata": {},
   "outputs": [],
   "source": [
    "readingCrash = df.loc[df['LocalAuthority'] == \"Reading\"]\n"
   ]
  },
  {
   "cell_type": "code",
   "execution_count": 17,
   "metadata": {},
   "outputs": [
    {
     "data": {
      "text/plain": [
       "array(['A4', 'A327', 'A329', 'A4155', 'M4', 'A33', 'A4074'], dtype=object)"
      ]
     },
     "execution_count": 17,
     "metadata": {},
     "output_type": "execute_result"
    }
   ],
   "source": [
    "readingCrash['Road'].unique()"
   ]
  },
  {
   "cell_type": "code",
   "execution_count": 21,
   "metadata": {},
   "outputs": [
    {
     "data": {
      "text/html": [
       "<div>\n",
       "<style scoped>\n",
       "    .dataframe tbody tr th:only-of-type {\n",
       "        vertical-align: middle;\n",
       "    }\n",
       "\n",
       "    .dataframe tbody tr th {\n",
       "        vertical-align: top;\n",
       "    }\n",
       "\n",
       "    .dataframe thead th {\n",
       "        text-align: right;\n",
       "    }\n",
       "</style>\n",
       "<table border=\"1\" class=\"dataframe\">\n",
       "  <thead>\n",
       "    <tr style=\"text-align: right;\">\n",
       "      <th></th>\n",
       "      <th>AADFYear</th>\n",
       "      <th>CP</th>\n",
       "      <th>Estimation_method</th>\n",
       "      <th>Estimation_method_detailed</th>\n",
       "      <th>Region</th>\n",
       "      <th>LocalAuthority</th>\n",
       "      <th>Road</th>\n",
       "      <th>RoadCategory</th>\n",
       "      <th>Easting</th>\n",
       "      <th>Northing</th>\n",
       "      <th>...</th>\n",
       "      <th>V2AxleRigidHGV</th>\n",
       "      <th>V3AxleRigidHGV</th>\n",
       "      <th>V4or5AxleRigidHGV</th>\n",
       "      <th>V3or4AxleArticHGV</th>\n",
       "      <th>V5AxleArticHGV</th>\n",
       "      <th>V6orMoreAxleArticHGV</th>\n",
       "      <th>AllHGVs</th>\n",
       "      <th>AllMotorVehicles</th>\n",
       "      <th>Lat</th>\n",
       "      <th>Lon</th>\n",
       "    </tr>\n",
       "  </thead>\n",
       "  <tbody>\n",
       "    <tr>\n",
       "      <th>0</th>\n",
       "      <td>2000</td>\n",
       "      <td>6007</td>\n",
       "      <td>Counted</td>\n",
       "      <td>Manual count</td>\n",
       "      <td>Yorkshire and the Humber</td>\n",
       "      <td>Rotherham</td>\n",
       "      <td>M1</td>\n",
       "      <td>TM</td>\n",
       "      <td>446000</td>\n",
       "      <td>389300</td>\n",
       "      <td>...</td>\n",
       "      <td>5351</td>\n",
       "      <td>656</td>\n",
       "      <td>711</td>\n",
       "      <td>1588</td>\n",
       "      <td>4715</td>\n",
       "      <td>2149</td>\n",
       "      <td>15170</td>\n",
       "      <td>111146</td>\n",
       "      <td>53.398531</td>\n",
       "      <td>-1.309655</td>\n",
       "    </tr>\n",
       "    <tr>\n",
       "      <th>1</th>\n",
       "      <td>2000</td>\n",
       "      <td>6009</td>\n",
       "      <td>Counted</td>\n",
       "      <td>Manual count</td>\n",
       "      <td>Yorkshire and the Humber</td>\n",
       "      <td>Leeds</td>\n",
       "      <td>M621</td>\n",
       "      <td>TM</td>\n",
       "      <td>432150</td>\n",
       "      <td>429500</td>\n",
       "      <td>...</td>\n",
       "      <td>1293</td>\n",
       "      <td>272</td>\n",
       "      <td>287</td>\n",
       "      <td>628</td>\n",
       "      <td>1494</td>\n",
       "      <td>921</td>\n",
       "      <td>4895</td>\n",
       "      <td>65939</td>\n",
       "      <td>53.760869</td>\n",
       "      <td>-1.513814</td>\n",
       "    </tr>\n",
       "    <tr>\n",
       "      <th>2</th>\n",
       "      <td>2000</td>\n",
       "      <td>6035</td>\n",
       "      <td>Counted</td>\n",
       "      <td>Manual count</td>\n",
       "      <td>Yorkshire and the Humber</td>\n",
       "      <td>Doncaster</td>\n",
       "      <td>M18</td>\n",
       "      <td>TM</td>\n",
       "      <td>466400</td>\n",
       "      <td>407900</td>\n",
       "      <td>...</td>\n",
       "      <td>1952</td>\n",
       "      <td>257</td>\n",
       "      <td>239</td>\n",
       "      <td>745</td>\n",
       "      <td>3695</td>\n",
       "      <td>2000</td>\n",
       "      <td>8888</td>\n",
       "      <td>40229</td>\n",
       "      <td>53.563523</td>\n",
       "      <td>-0.998970</td>\n",
       "    </tr>\n",
       "    <tr>\n",
       "      <th>3</th>\n",
       "      <td>2000</td>\n",
       "      <td>6054</td>\n",
       "      <td>Counted</td>\n",
       "      <td>Manual count</td>\n",
       "      <td>Yorkshire and the Humber</td>\n",
       "      <td>Calderdale</td>\n",
       "      <td>M62</td>\n",
       "      <td>TM</td>\n",
       "      <td>404000</td>\n",
       "      <td>416600</td>\n",
       "      <td>...</td>\n",
       "      <td>3121</td>\n",
       "      <td>508</td>\n",
       "      <td>354</td>\n",
       "      <td>1786</td>\n",
       "      <td>5902</td>\n",
       "      <td>3438</td>\n",
       "      <td>15109</td>\n",
       "      <td>85759</td>\n",
       "      <td>53.645893</td>\n",
       "      <td>-1.940967</td>\n",
       "    </tr>\n",
       "    <tr>\n",
       "      <th>4</th>\n",
       "      <td>2000</td>\n",
       "      <td>6055</td>\n",
       "      <td>Counted</td>\n",
       "      <td>Manual count</td>\n",
       "      <td>Yorkshire and the Humber</td>\n",
       "      <td>Leeds</td>\n",
       "      <td>M62</td>\n",
       "      <td>TM</td>\n",
       "      <td>426000</td>\n",
       "      <td>426200</td>\n",
       "      <td>...</td>\n",
       "      <td>4030</td>\n",
       "      <td>624</td>\n",
       "      <td>423</td>\n",
       "      <td>1947</td>\n",
       "      <td>6669</td>\n",
       "      <td>3743</td>\n",
       "      <td>17436</td>\n",
       "      <td>98487</td>\n",
       "      <td>53.731551</td>\n",
       "      <td>-1.607374</td>\n",
       "    </tr>\n",
       "  </tbody>\n",
       "</table>\n",
       "<p>5 rows × 29 columns</p>\n",
       "</div>"
      ],
      "text/plain": [
       "   AADFYear    CP Estimation_method Estimation_method_detailed  \\\n",
       "0      2000  6007           Counted               Manual count   \n",
       "1      2000  6009           Counted               Manual count   \n",
       "2      2000  6035           Counted               Manual count   \n",
       "3      2000  6054           Counted               Manual count   \n",
       "4      2000  6055           Counted               Manual count   \n",
       "\n",
       "                     Region LocalAuthority  Road RoadCategory  Easting  \\\n",
       "0  Yorkshire and the Humber      Rotherham    M1           TM   446000   \n",
       "1  Yorkshire and the Humber          Leeds  M621           TM   432150   \n",
       "2  Yorkshire and the Humber      Doncaster   M18           TM   466400   \n",
       "3  Yorkshire and the Humber     Calderdale   M62           TM   404000   \n",
       "4  Yorkshire and the Humber          Leeds   M62           TM   426000   \n",
       "\n",
       "   Northing  ... V2AxleRigidHGV V3AxleRigidHGV  V4or5AxleRigidHGV  \\\n",
       "0    389300  ...           5351            656                711   \n",
       "1    429500  ...           1293            272                287   \n",
       "2    407900  ...           1952            257                239   \n",
       "3    416600  ...           3121            508                354   \n",
       "4    426200  ...           4030            624                423   \n",
       "\n",
       "   V3or4AxleArticHGV  V5AxleArticHGV  V6orMoreAxleArticHGV  AllHGVs  \\\n",
       "0               1588            4715                  2149    15170   \n",
       "1                628            1494                   921     4895   \n",
       "2                745            3695                  2000     8888   \n",
       "3               1786            5902                  3438    15109   \n",
       "4               1947            6669                  3743    17436   \n",
       "\n",
       "   AllMotorVehicles        Lat       Lon  \n",
       "0            111146  53.398531 -1.309655  \n",
       "1             65939  53.760869 -1.513814  \n",
       "2             40229  53.563523 -0.998970  \n",
       "3             85759  53.645893 -1.940967  \n",
       "4             98487  53.731551 -1.607374  \n",
       "\n",
       "[5 rows x 29 columns]"
      ]
     },
     "execution_count": 21,
     "metadata": {},
     "output_type": "execute_result"
    }
   ],
   "source": [
    "df.head()"
   ]
  },
  {
   "cell_type": "code",
   "execution_count": null,
   "metadata": {},
   "outputs": [],
   "source": []
  }
 ],
 "metadata": {
  "kernelspec": {
   "display_name": "Python 3",
   "language": "python",
   "name": "python3"
  },
  "language_info": {
   "codemirror_mode": {
    "name": "ipython",
    "version": 3
   },
   "file_extension": ".py",
   "mimetype": "text/x-python",
   "name": "python",
   "nbconvert_exporter": "python",
   "pygments_lexer": "ipython3",
   "version": "3.8.10"
  }
 },
 "nbformat": 4,
 "nbformat_minor": 2
}
